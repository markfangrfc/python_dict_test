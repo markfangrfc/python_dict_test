{
  "nbformat": 4,
  "nbformat_minor": 0,
  "metadata": {
    "colab": {
      "provenance": []
    },
    "kernelspec": {
      "name": "python3",
      "display_name": "Python 3"
    },
    "language_info": {
      "name": "python"
    }
  },
  "cells": [
    {
      "cell_type": "code",
      "execution_count": 4,
      "metadata": {
        "id": "gofl8ue72PSY",
        "colab": {
          "base_uri": "https://localhost:8080/"
        },
        "outputId": "4018f3f0-b7b8-44c1-bf19-e6e5bfa77446"
      },
      "outputs": [
        {
          "output_type": "stream",
          "name": "stdout",
          "text": [
            "輸入範圍3\n",
            "1 x 1 = 1\n",
            "1 x 2 = 2\n",
            "1 x 3 = 3\n",
            "2 x 1 = 2\n",
            "2 x 2 = 4\n",
            "2 x 3 = 6\n",
            "3 x 1 = 3\n",
            "3 x 2 = 6\n",
            "3 x 3 = 9\n"
          ]
        }
      ],
      "source": [
        "number = int(input(\"輸入範圍\"))\n",
        "for i in range(1, number + 1):\n",
        "  for j in range(1, number + 1):\n",
        "    print(f\"{i} x {j} = {i * j}\")"
      ]
    },
    {
      "cell_type": "code",
      "source": [
        "import random\n",
        "# 生成一個隨機數字，這是要猜的數字\n",
        "target_number = random.randint(1, 100)\n",
        "\n",
        "print(\"歡迎參加猜數字遊戲！\")\n",
        "ans = 0\n",
        "while ans == 0:\n",
        "  guess = int(input(\"你的猜測是？\"))\n",
        "  if guess > target_number:\n",
        "    print(\"猜高拉\")\n",
        "  elif guess < target_number:\n",
        "    print(\"猜低拉\")\n",
        "  else:\n",
        "    print(f\"guess right! the answer is {target_number}\")\n",
        "    ans = 1\n",
        "print(\"遊戲結束。\")\n"
      ],
      "metadata": {
        "colab": {
          "base_uri": "https://localhost:8080/"
        },
        "id": "jOqPgpqRBYLf",
        "outputId": "144c3851-bf3b-41ae-e1fd-9748ab360c5a"
      },
      "execution_count": 8,
      "outputs": [
        {
          "output_type": "stream",
          "name": "stdout",
          "text": [
            "歡迎參加猜數字遊戲！\n",
            "你的猜測是？50\n",
            "猜低拉\n",
            "你的猜測是？75\n",
            "猜低拉\n",
            "你的猜測是？90\n",
            "猜高拉\n",
            "你的猜測是？86\n",
            "猜高拉\n",
            "你的猜測是？81\n",
            "guess right! the answer is 81\n",
            "遊戲結束。\n"
          ]
        }
      ]
    }
  ]
}