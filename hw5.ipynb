{
  "nbformat": 4,
  "nbformat_minor": 0,
  "metadata": {
    "colab": {
      "provenance": []
    },
    "kernelspec": {
      "name": "python3",
      "display_name": "Python 3"
    },
    "language_info": {
      "name": "python"
    }
  },
  "cells": [
    {
      "cell_type": "code",
      "execution_count": 6,
      "metadata": {
        "id": "gofl8ue72PSY",
        "colab": {
          "base_uri": "https://localhost:8080/"
        },
        "outputId": "3afe582b-4f8e-464d-ecd9-ac7d71d155ce"
      },
      "outputs": [
        {
          "output_type": "stream",
          "name": "stdout",
          "text": [
            "\n",
            "您想查詢什麼？(藥方名稱/出典/處方/效能/適應症/退出查詢)：藥方名稱\n",
            "鈎藤散\n",
            "\n",
            "您想查詢什麼？(藥方名稱/出典/處方/效能/適應症/退出查詢)：效能\n",
            "鈎藤散的效能是:祛風痰、清頭目。\n",
            "\n",
            "您想查詢什麼？(藥方名稱/出典/處方/效能/適應症/退出查詢)：適應症\n",
            "鈎藤散的適應症有:\n",
            "肝厥頭暈\n",
            "嘔吐\n",
            "昏眩\n",
            "\n",
            "您想查詢什麼？(藥方名稱/出典/處方/效能/適應症/退出查詢)：出典\n",
            "鈎藤散的出典為:普濟本事方\n",
            "\n",
            "您想查詢什麼？(藥方名稱/出典/處方/效能/適應症/退出查詢)：處方\n",
            "鈎藤散的處方為:\n",
            "鈎藤：2公克\n",
            "陳皮：2公克\n",
            "半夏：2公克\n",
            "麥門冬：2公克\n",
            "茯苓：2公克\n",
            "茯神：2公克\n",
            "人參：2公克\n",
            "甘菊花：2公克\n",
            "防風：2公克\n",
            "炙甘草：1公克\n",
            "石膏：4公克\n",
            "生薑：3公克\n",
            "總克數為：26公克\n",
            "\n",
            "您想查詢什麼？(藥方名稱/出典/處方/效能/適應症/退出查詢)：退出查詢\n",
            "感謝使用，再見！\n"
          ]
        }
      ],
      "source": [
        "# 定義六味地黃丸的資料\n",
        "prescription = {\n",
        "    '名稱': '鈎藤散',\n",
        "    '出典': '普濟本事方',\n",
        "    '處方': {\n",
        "        '鈎藤': 2,  # 公克\n",
        "        '陳皮': 2,\n",
        "        '半夏': 2,\n",
        "        '麥門冬': 2,\n",
        "        '茯苓': 2,\n",
        "        '茯神': 2,\n",
        "        '人參': 2,\n",
        "        '甘菊花': 2,\n",
        "        '防風': 2,\n",
        "        '炙甘草': 1,\n",
        "        '石膏': 4,\n",
        "        '生薑': 3\n",
        "    },\n",
        "    '效能': '祛風痰、清頭目。',\n",
        "    '適應症': ['肝厥頭暈', '嘔吐', '昏眩']\n",
        "}\n",
        "\n",
        "# 使用 while 迴圈提供查詢服務\n",
        "while True:\n",
        "    query = input(\"\\n您想查詢什麼？(藥方名稱/出典/處方/效能/適應症/退出查詢)：\")\n",
        "\n",
        "    if query == \"藥方名稱\":\n",
        "        print(f\"{prescription['名稱']}\")\n",
        "    elif query == \"出典\":\n",
        "        print(f\"{prescription['名稱']}的出典為:{prescription['出典']}\")\n",
        "    elif query == \"適應症\":\n",
        "        print(f\"{prescription['名稱']}的適應症有:\")\n",
        "        for symptom in prescription['適應症']:\n",
        "            print(symptom)\n",
        "    elif query == \"處方\":\n",
        "        total_weight = sum(prescription['處方'].values())\n",
        "        print(f\"{prescription['名稱']}的處方為:\")\n",
        "        for medicine, weight in prescription['處方'].items():\n",
        "            print(f\"{medicine}：{weight}公克\")\n",
        "        print(f\"總克數為：{total_weight}公克\")\n",
        "    elif query == \"效能\":\n",
        "        print(f\"{prescription['名稱']}的效能是:{prescription['效能']}\")\n",
        "    elif query == \"退出查詢\":\n",
        "        print(\"感謝使用，再見！\")\n",
        "        break\n",
        "    else:\n",
        "        print(\"輸入無效，請重新輸入。\")"
      ]
    }
  ]
}