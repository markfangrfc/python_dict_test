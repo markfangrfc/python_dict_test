{
  "nbformat": 4,
  "nbformat_minor": 0,
  "metadata": {
    "colab": {
      "provenance": []
    },
    "kernelspec": {
      "name": "python3",
      "display_name": "Python 3"
    },
    "language_info": {
      "name": "python"
    }
  },
  "cells": [
    {
      "cell_type": "code",
      "execution_count": 10,
      "metadata": {
        "id": "gofl8ue72PSY",
        "colab": {
          "base_uri": "https://localhost:8080/"
        },
        "outputId": "545a6401-3765-45d7-a0e8-fdd21bdadc97"
      },
      "outputs": [
        {
          "output_type": "stream",
          "name": "stdout",
          "text": [
            "name： <class 'str'> , number <class 'str'>\n",
            "{'name': '方旭誠', 'number': 'B1205057'}\n"
          ]
        }
      ],
      "source": [
        "name = \"方旭誠\"\n",
        "number = \"B1205057\"\n",
        "print('name：', type(name), ',', 'number', type(number))\n",
        "self_information = { 'name' : name, 'number' : number }\n",
        "print(self_information)"
      ]
    }
  ]
}