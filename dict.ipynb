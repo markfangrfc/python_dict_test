{
  "nbformat": 4,
  "nbformat_minor": 0,
  "metadata": {
    "colab": {
      "provenance": []
    },
    "kernelspec": {
      "name": "python3",
      "display_name": "Python 3"
    },
    "language_info": {
      "name": "python"
    }
  },
  "cells": [
    {
      "cell_type": "code",
      "execution_count": 5,
      "metadata": {
        "id": "gofl8ue72PSY",
        "colab": {
          "base_uri": "https://localhost:8080/"
        },
        "outputId": "616563a4-2a79-42c1-94c9-e5ab518ea268"
      },
      "outputs": [
        {
          "output_type": "stream",
          "name": "stdout",
          "text": [
            "<class 'dict'>\n",
            "{'name': '方旭誠', 'number': 'B1205057'}\n"
          ]
        }
      ],
      "source": [
        "self_information = { 'name' : \"方旭誠\", 'number' : \"B1205057\" }\n",
        "print(type(self_information))\n",
        "print(self_information)"
      ]
    }
  ]
}