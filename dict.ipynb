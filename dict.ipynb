{
  "nbformat": 4,
  "nbformat_minor": 0,
  "metadata": {
    "colab": {
      "provenance": []
    },
    "kernelspec": {
      "name": "python3",
      "display_name": "Python 3"
    },
    "language_info": {
      "name": "python"
    }
  },
  "cells": [
    {
      "cell_type": "code",
      "execution_count": 7,
      "metadata": {
        "id": "gofl8ue72PSY",
        "colab": {
          "base_uri": "https://localhost:8080/"
        },
        "outputId": "382e0b8b-bdb0-4b3c-a600-61a495fde317"
      },
      "outputs": [
        {
          "output_type": "stream",
          "name": "stdout",
          "text": [
            "<class 'str'> <class 'str'>\n",
            "{'name': '方旭誠', 'number': 'B1205057'}\n"
          ]
        }
      ],
      "source": [
        "name = \"方旭誠\"\n",
        "number = \"B1205057\"\n",
        "print(type(name), type(number))\n",
        "self_information = { 'name' : name, 'number' : number }\n",
        "print(self_information)"
      ]
    }
  ]
}